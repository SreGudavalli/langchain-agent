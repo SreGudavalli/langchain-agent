{
 "cells": [
  {
   "cell_type": "code",
   "execution_count": null,
   "id": "f6cc6b67-c50f-41bd-b6f8-e5ea2196c548",
   "metadata": {},
   "outputs": [],
   "source": [
    "import os\n",
    "import requests\n",
    "from datetime import datetime, timedelta\n",
    "from langchain.llms import OpenAI\n",
    "from langchain.agents import AgentType, initialize_agent, load_tools\n",
    "\n",
    "os.environ[\"OPENWEATHERMAP_API_KEY\"] = \"{{OPENWEATHERMAP_API_KEY}}\"\n",
    "\n",
    "# Insert your key here\n",
    "llm = OpenAI(temperature=0.0,\n",
    "            openai_api_key = \"{{OpenAI_Key}}\")\n",
    "\n",
    "# Function to get current weather data\n",
    "def get_weather_data(city):\n",
    "    api_key = os.environ[\"OPENWEATHERMAP_API_KEY\"]\n",
    "    url = f\"https://api.openweathermap.org/data/2.5/weather?q={city}&appid={api_key}&units=metric\"\n",
    "    response = requests.get(url)\n",
    "    return response.json()\n",
    "\n",
    "# Function to get weather forecast data\n",
    "def get_weather_forecast(city):\n",
    "    api_key = os.environ[\"OPENWEATHERMAP_API_KEY\"]\n",
    "    url = f\"https://api.openweathermap.org/data/2.5/forecast?q={city}&appid={api_key}&units=metric\"\n",
    "    response = requests.get(url)\n",
    "    return response.json()\n",
    "\n",
    "# loading tools\n",
    "tools = load_tools([\"llm-math\"], llm=llm)\n",
    "\n",
    "agent = initialize_agent(tools, \n",
    "                        llm, \n",
    "                        agent=AgentType.ZERO_SHOT_REACT_DESCRIPTION, \n",
    "                        verbose=True)\n",
    "\n",
    "# user's query\n",
    "city_name = \"Dallas\"\n",
    "current_weather = get_weather_data(city_name)\n",
    "weather_forecast = get_weather_forecast(city_name)\n",
    "\n",
    "if \"main\" in current_weather:\n",
    "    current_temp = current_weather['main']['temp']\n",
    "    print(f\"The current temperature in {city_name} is {current_temp}°C.\")\n",
    "    \n",
    "    forecast_temps = [forecast['main']['temp'] for forecast in weather_forecast['list']]\n",
    "    average_forecast_temp = sum(forecast_temps) / len(forecast_temps)\n",
    "    print(f\"The average temperature in {city_name} for the next few days is {average_forecast_temp:.2f}°C.\")\n",
    "else:\n",
    "    print(f\"Could not retrieve the weather data for {city_name}. Please check the city name and try again.\")\n"
   ]
  }
 ],
 "metadata": {
  "kernelspec": {
   "display_name": "Python 3 (ipykernel)",
   "language": "python",
   "name": "python3"
  },
  "language_info": {
   "codemirror_mode": {
    "name": "ipython",
    "version": 3
   },
   "file_extension": ".py",
   "mimetype": "text/x-python",
   "name": "python",
   "nbconvert_exporter": "python",
   "pygments_lexer": "ipython3",
   "version": "3.12.2"
  }
 },
 "nbformat": 4,
 "nbformat_minor": 5
}
